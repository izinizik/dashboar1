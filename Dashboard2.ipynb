{
 "cells": [
  {
   "cell_type": "code",
   "execution_count": 1,
   "metadata": {},
   "outputs": [],
   "source": [
    "import plotly.express as px\n",
    "import plotly.graph_objects as go\n",
    "import pandas as pd\n",
    "from dash.dependencies import Input, Output\n",
    "from jupyter_dash import JupyterDash\n",
    "import dash\n",
    "import dash_core_components as dcc\n",
    "import dash_html_components as html\n",
    "import dash_bootstrap_components as dbc"
   ]
  },
  {
   "cell_type": "code",
   "execution_count": 2,
   "metadata": {},
   "outputs": [
    {
     "data": {
      "text/html": [
       "<div>\n",
       "<style scoped>\n",
       "    .dataframe tbody tr th:only-of-type {\n",
       "        vertical-align: middle;\n",
       "    }\n",
       "\n",
       "    .dataframe tbody tr th {\n",
       "        vertical-align: top;\n",
       "    }\n",
       "\n",
       "    .dataframe thead th {\n",
       "        text-align: right;\n",
       "    }\n",
       "</style>\n",
       "<table border=\"1\" class=\"dataframe\">\n",
       "  <thead>\n",
       "    <tr style=\"text-align: right;\">\n",
       "      <th></th>\n",
       "      <th>iso_alpha</th>\n",
       "      <th>kraj</th>\n",
       "      <th>nazwa</th>\n",
       "      <th>moc_mw</th>\n",
       "      <th>lat</th>\n",
       "      <th>lon</th>\n",
       "      <th>paliwo1</th>\n",
       "      <th>paliwo2</th>\n",
       "      <th>źródło</th>\n",
       "      <th>url</th>\n",
       "    </tr>\n",
       "  </thead>\n",
       "  <tbody>\n",
       "    <tr>\n",
       "      <th>0</th>\n",
       "      <td>AUS</td>\n",
       "      <td>Australia</td>\n",
       "      <td>Broadwater</td>\n",
       "      <td>38.0</td>\n",
       "      <td>-29.0118</td>\n",
       "      <td>153.4335</td>\n",
       "      <td>Biomasa</td>\n",
       "      <td>NaN</td>\n",
       "      <td>Australian Renewable Energy Mapping Infrastruc...</td>\n",
       "      <td>http://services.ga.gov.au/site_3/rest/services...</td>\n",
       "    </tr>\n",
       "    <tr>\n",
       "      <th>1</th>\n",
       "      <td>AUS</td>\n",
       "      <td>Australia</td>\n",
       "      <td>Condong Sugar Mill</td>\n",
       "      <td>30.0</td>\n",
       "      <td>-28.3138</td>\n",
       "      <td>153.4341</td>\n",
       "      <td>Biomasa</td>\n",
       "      <td>NaN</td>\n",
       "      <td>Australian Renewable Energy Mapping Infrastruc...</td>\n",
       "      <td>http://services.ga.gov.au/site_3/rest/services...</td>\n",
       "    </tr>\n",
       "    <tr>\n",
       "      <th>2</th>\n",
       "      <td>AUS</td>\n",
       "      <td>Australia</td>\n",
       "      <td>Inkerman Sugar Mill</td>\n",
       "      <td>10.5</td>\n",
       "      <td>-19.6422</td>\n",
       "      <td>147.4016</td>\n",
       "      <td>Biomasa</td>\n",
       "      <td>NaN</td>\n",
       "      <td>Australian Renewable Energy Mapping Infrastruc...</td>\n",
       "      <td>http://services.ga.gov.au/site_3/rest/services...</td>\n",
       "    </tr>\n",
       "    <tr>\n",
       "      <th>3</th>\n",
       "      <td>AUS</td>\n",
       "      <td>Australia</td>\n",
       "      <td>Invicta Sugar Mill</td>\n",
       "      <td>150.0</td>\n",
       "      <td>-19.5167</td>\n",
       "      <td>147.1065</td>\n",
       "      <td>Biomasa</td>\n",
       "      <td>NaN</td>\n",
       "      <td>Australian Renewable Energy Mapping Infrastruc...</td>\n",
       "      <td>http://services.ga.gov.au/site_3/rest/services...</td>\n",
       "    </tr>\n",
       "    <tr>\n",
       "      <th>4</th>\n",
       "      <td>AUS</td>\n",
       "      <td>Australia</td>\n",
       "      <td>Isis Central Sugar Mill</td>\n",
       "      <td>25.0</td>\n",
       "      <td>-25.1940</td>\n",
       "      <td>152.2086</td>\n",
       "      <td>Biomasa</td>\n",
       "      <td>NaN</td>\n",
       "      <td>Australian Renewable Energy Mapping Infrastruc...</td>\n",
       "      <td>http://services.ga.gov.au/site_3/rest/services...</td>\n",
       "    </tr>\n",
       "  </tbody>\n",
       "</table>\n",
       "</div>"
      ],
      "text/plain": [
       "  iso_alpha       kraj                    nazwa  moc_mw      lat       lon  \\\n",
       "0       AUS  Australia               Broadwater    38.0 -29.0118  153.4335   \n",
       "1       AUS  Australia       Condong Sugar Mill    30.0 -28.3138  153.4341   \n",
       "2       AUS  Australia      Inkerman Sugar Mill    10.5 -19.6422  147.4016   \n",
       "3       AUS  Australia       Invicta Sugar Mill   150.0 -19.5167  147.1065   \n",
       "4       AUS  Australia  Isis Central Sugar Mill    25.0 -25.1940  152.2086   \n",
       "\n",
       "   paliwo1 paliwo2                                             źródło  \\\n",
       "0  Biomasa     NaN  Australian Renewable Energy Mapping Infrastruc...   \n",
       "1  Biomasa     NaN  Australian Renewable Energy Mapping Infrastruc...   \n",
       "2  Biomasa     NaN  Australian Renewable Energy Mapping Infrastruc...   \n",
       "3  Biomasa     NaN  Australian Renewable Energy Mapping Infrastruc...   \n",
       "4  Biomasa     NaN  Australian Renewable Energy Mapping Infrastruc...   \n",
       "\n",
       "                                                 url  \n",
       "0  http://services.ga.gov.au/site_3/rest/services...  \n",
       "1  http://services.ga.gov.au/site_3/rest/services...  \n",
       "2  http://services.ga.gov.au/site_3/rest/services...  \n",
       "3  http://services.ga.gov.au/site_3/rest/services...  \n",
       "4  http://services.ga.gov.au/site_3/rest/services...  "
      ]
     },
     "execution_count": 2,
     "metadata": {},
     "output_type": "execute_result"
    }
   ],
   "source": [
    "df=pd.read_excel('elektrownie_pl.xlsx', sheet_name='elektrownie')\n",
    "df.head()"
   ]
  },
  {
   "cell_type": "code",
   "execution_count": 65,
   "metadata": {},
   "outputs": [],
   "source": [
    "countries = df['kraj'].unique()"
   ]
  },
  {
   "cell_type": "code",
   "execution_count": 129,
   "metadata": {},
   "outputs": [],
   "source": [
    "initial_countries = ['Belgia', 'Dania', 'Finlandia', 'Francja', 'Hiszpania', 'Indie', 'Irlandia',\n",
    "                     'Kanada', 'Korea Południowa', 'Meksyk', 'Niemcy', 'Polska', 'Portugalia',\n",
    "                     'Rosja', 'Szwecja', 'USA', 'Wielka Brytania', 'Arabia Saudyjska',\n",
    "                     'Chiny', 'Czechy', 'Grecja', 'Iran', 'Izrael', 'Japonia', \n",
    "                     'Kazachstan', 'Pakistan', 'Turcja', 'Włochy', 'Afghanistan',\n",
    "                     'Austria', 'Białoruś', 'Chorwacja', 'Holandia', 'Irak', \n",
    "                     'Norwegia','Ukraina', 'Szwajcaria', 'Korea Północna']"
   ]
  },
  {
   "cell_type": "code",
   "execution_count": 130,
   "metadata": {},
   "outputs": [],
   "source": [
    "color_map = {'(?)':'black', 'Biomasa':'#33a02c', 'Kogeneracja':'#01665e', 'Energia słoneczna':'#fd8d3c', 'Gaz ziemny':'#662506',\n",
    "       'Energia geotermalna':'#e31a1c', 'Energia jądrowa':'#c51b7d', 'Odpady':'#4a1486', 'Olej opałowy':'#a6611a',\n",
    "       'Inne':'#e9a3c9', 'Koks ponaftowy':'#999999', 'Szczytowo-pompowa':'#5ab4ac', 'Fale i pływy':'#0c2c84',\n",
    "       'Węgiel':'#404040', 'Wiatr':'#abd9e9', 'Woda':'#2c7bb6'}"
   ]
  },
  {
   "cell_type": "code",
   "execution_count": 131,
   "metadata": {},
   "outputs": [],
   "source": [
    "bg_color = '#132639'\n",
    "font_color = '#bdbdbd'"
   ]
  },
  {
   "cell_type": "code",
   "execution_count": 132,
   "metadata": {},
   "outputs": [],
   "source": [
    "app = JupyterDash(__name__)\n",
    "server = app.server"
   ]
  },
  {
   "cell_type": "code",
   "execution_count": 133,
   "metadata": {},
   "outputs": [],
   "source": [
    "SIDEBAR_STYLE = {\n",
    "    'position': 'fixed',\n",
    "    'top': 0,\n",
    "    'left': 0,\n",
    "    'bottom': 0,\n",
    "    'width': '27rem',\n",
    "    'padding': '2rem 1rem',\n",
    "}"
   ]
  },
  {
   "cell_type": "code",
   "execution_count": 134,
   "metadata": {},
   "outputs": [],
   "source": [
    "CONTENT_STYLE = {\n",
    "    'margin-left': '28rem',\n",
    "    'margin-right': '0rem',\n",
    "    'padding': '2rem 1rem',\n",
    "    'display':'inline-block'\n",
    "}"
   ]
  },
  {
   "cell_type": "code",
   "execution_count": 135,
   "metadata": {},
   "outputs": [],
   "source": [
    "DROPDOWN_STYLE = {\n",
    "    'background-color': 'black'\n",
    "}"
   ]
  },
  {
   "cell_type": "code",
   "execution_count": 136,
   "metadata": {},
   "outputs": [],
   "source": [
    "sidebar = html.Div([\n",
    "        html.H3('Energetyka w świecie'),\n",
    "        html.Hr(),\n",
    "        html.P(\n",
    "            'Rozkład elektrowni według krajów oraz mocy zainstalowanej', className='lead'\n",
    "        ),\n",
    "          dbc.FormGroup([\n",
    "                dbc.Label('Wybierz kraj'),\n",
    "                dcc.Dropdown(id='country',\n",
    "                             placeholder='Wybierz kraj',\n",
    "                             options=[{'label': i, 'value': i} for i in countries],\n",
    "                             value=initial_countries,\n",
    "                             multi=True,\n",
    "                             className=\"custom-dropdown\"\n",
    "                           ),\n",
    "            ]),\n",
    "        html.Hr(),\n",
    "        dbc.FormGroup([\n",
    "                dbc.Label('Kliknij w wybraną elektrownię aby uzyskać więcej informacji'),\n",
    "                dcc.Markdown(id='plant_summary')\n",
    "            ]),\n",
    "        html.Hr(),\n",
    "            html.A('Źródło danych', href='https://datasets.wri.org/dataset/globalpowerplantdatabase', target=\"_blank\")          \n",
    "    ],\n",
    "    style=SIDEBAR_STYLE,\n",
    ")"
   ]
  },
  {
   "cell_type": "code",
   "execution_count": 137,
   "metadata": {},
   "outputs": [],
   "source": [
    "content = html.Div([\n",
    "    dcc.Graph(id='map',clickData={'points': [{'hovertext': 'EC PKN Orlen'}]}),\n",
    "    dcc.Graph(id='fig')],style=CONTENT_STYLE)"
   ]
  },
  {
   "cell_type": "code",
   "execution_count": 138,
   "metadata": {},
   "outputs": [],
   "source": [
    "app.layout = html.Div([sidebar, content])"
   ]
  },
  {
   "cell_type": "code",
   "execution_count": 139,
   "metadata": {},
   "outputs": [],
   "source": [
    "@app.callback(\n",
    "    Output('map', 'figure'),\n",
    "    Output('fig', 'figure'),\n",
    "    Input('country', 'value'))\n",
    "def update_map(countries):    \n",
    "    dff = df[df.kraj.isin(countries)]\n",
    "    map_scatter = px.scatter_mapbox(dff, lat='lat', lon='lon',\n",
    "                        hover_name='nazwa', hover_data=['kraj', 'paliwo1'],\n",
    "                        color='paliwo1',zoom=1.3,\n",
    "                        center = {'lat': 45, 'lon' :-25},opacity = 0.8,\n",
    "                        color_discrete_map=color_map,\n",
    "                        mapbox_style='carto-darkmatter',\n",
    "                        labels = {'paliwo1': 'Rodzaj paliwa', 'lon':'Długość geograficzna', \n",
    "                                  'lat':'Szerokość geograficzna','kraj':'Kraj', 'moc_mw': 'Moc (MW)'},\n",
    "                        size = 'moc_mw')\n",
    "    map_scatter.update_layout(\n",
    "        font_color=font_color,\n",
    "        paper_bgcolor=bg_color,\n",
    "        width=1200, height=450,\n",
    "        margin=go.layout.Margin(l=0, r=0, t=0, b=0),\n",
    "        legend=dict( title= None, orientation='h', y=1.01, yanchor='top', x=0.5, xanchor='center')\n",
    "    )\n",
    "    grouped = dff.groupby(['kraj','paliwo1']).agg({'moc_mw': 'sum'}).reset_index()\n",
    "    grouped['all'] = ''\n",
    "    fig = px.treemap(grouped,\n",
    "                path=['all','kraj','paliwo1'],\n",
    "                values='moc_mw',\n",
    "                color='paliwo1',\n",
    "                color_discrete_map=color_map,\n",
    "            )\n",
    "    fig.data[0].hovertemplate = '%{parent}<br>%{label}<br>Moc (MW)=%{value}'\n",
    "    fig.update_layout(\n",
    "        title='Wybrane kraje według sumarycznej mocy',\n",
    "        paper_bgcolor=bg_color,\n",
    "        font_color=font_color,\n",
    "        hovermode='x',width=1200, height=450\n",
    "    )\n",
    "    return map_scatter, fig"
   ]
  },
  {
   "cell_type": "code",
   "execution_count": 140,
   "metadata": {},
   "outputs": [],
   "source": [
    "@app.callback(dash.dependencies.Output('plant_summary', 'children'),\n",
    "              [dash.dependencies.Input('map', 'clickData')])\n",
    "def update_summary(click_Data):\n",
    "    plant_name  = click_Data['points'][0]['hovertext']\n",
    "    source = df[df['nazwa'] == plant_name]['źródło'].iloc[0]\n",
    "    capacity_mw = df[df['nazwa'] == plant_name]['moc_mw'].iloc[0]\n",
    "    country = df[df['nazwa'] == plant_name]['kraj'].iloc[0]\n",
    "    fuel = df[df['nazwa'] == plant_name]['paliwo1'].iloc[0]\n",
    "    url = df[df['nazwa'] == plant_name]['url'].iloc[0]\n",
    "   \n",
    "    update = f'''\n",
    "                    **Podsumowanie dla *{plant_name}*:**\n",
    "                    - Kraj: {country}\n",
    "                    - Moc (MW): {capacity_mw}\n",
    "                    - Główne paliwo: {fuel}\n",
    "                    - Więcej informacji: [{source}]({url})\n",
    "                    \n",
    "                    \n",
    "                    \n",
    "                    **Uwaga**: nan oznacza brak informacji w bazie\n",
    "                    '''\n",
    "    return update"
   ]
  },
  {
   "cell_type": "code",
   "execution_count": 141,
   "metadata": {},
   "outputs": [
    {
     "name": "stdout",
     "output_type": "stream",
     "text": [
      "Dash app running on http://127.0.0.1:8050/\n"
     ]
    }
   ],
   "source": [
    "app.run_server()"
   ]
  },
  {
   "cell_type": "code",
   "execution_count": 249,
   "metadata": {},
   "outputs": [],
   "source": [
    "app._terminate_server_for_port(\"localhost\", 8050)"
   ]
  },
  {
   "cell_type": "code",
   "execution_count": null,
   "metadata": {},
   "outputs": [],
   "source": []
  }
 ],
 "metadata": {
  "kernelspec": {
   "display_name": "Python 3",
   "language": "python",
   "name": "python3"
  },
  "language_info": {
   "codemirror_mode": {
    "name": "ipython",
    "version": 3
   },
   "file_extension": ".py",
   "mimetype": "text/x-python",
   "name": "python",
   "nbconvert_exporter": "python",
   "pygments_lexer": "ipython3",
   "version": "3.7.4"
  }
 },
 "nbformat": 4,
 "nbformat_minor": 4
}
